{
 "cells": [
  {
   "cell_type": "markdown",
   "metadata": {},
   "source": [
    "# Flowers-102 Image Classification"
   ]
  },
  {
   "cell_type": "markdown",
   "metadata": {},
   "source": [
    "## Imports"
   ]
  },
  {
   "cell_type": "code",
   "execution_count": 19,
   "metadata": {},
   "outputs": [],
   "source": [
    "import torch\n",
    "import torchvision\n",
    "#following import name conventions\n",
    "import torchvision.transforms.v2 as transforms\n",
    "import torch.nn as nn\n",
    "import torch.nn.functional as F\n",
    "import torch.optim as optim"
   ]
  },
  {
   "cell_type": "markdown",
   "metadata": {},
   "source": [
    "## Processor choice"
   ]
  },
  {
   "cell_type": "code",
   "execution_count": 20,
   "metadata": {},
   "outputs": [],
   "source": [
    "#Use GPU if possible\n",
    "device = (\n",
    "    \"cuda\"\n",
    "    if torch.cuda.is_available()\n",
    "    else \"mps\"\n",
    "    if torch.backends.mps.is_available()\n",
    "    else \"cpu\"\n",
    ")"
   ]
  },
  {
   "cell_type": "markdown",
   "metadata": {},
   "source": [
    "## Loading and Normalising Data"
   ]
  },
  {
   "cell_type": "code",
   "execution_count": 21,
   "metadata": {},
   "outputs": [],
   "source": [
    "#Transform to be ran on data\n",
    "train_transforms = transforms.Compose([\n",
    "    \n",
    "    transforms.RandomResizedCrop(size=(500,500)),\n",
    "    transforms.RandomHorizontalFlip(), #reduce bias with image flip\n",
    "    transforms.RandomRotation(20), #reduce bias with random angles\n",
    "    transforms.ColorJitter(brightness=0.5,contrast=0.5),\n",
    "\n",
    "    \n",
    "    transforms.ToTensor(),\n",
    "    transforms.Normalize((0.5151, 0.4092, 0.3384), (0.2505, 0.2084, 0.2139)) #mean and std of dataset\n",
    "])\n",
    "\n",
    "test_transforms = transforms.Compose([\n",
    "    transforms.Resize((500,500)),\n",
    "\n",
    "    transforms.ToTensor(),\n",
    "    transforms.Normalize((0.5151, 0.4092, 0.3384), (0.2505, 0.2084, 0.2139)) #mean and std of dataset\n",
    "])"
   ]
  },
  {
   "cell_type": "markdown",
   "metadata": {},
   "source": [
    "### Hyperparameters"
   ]
  },
  {
   "cell_type": "code",
   "execution_count": 22,
   "metadata": {},
   "outputs": [],
   "source": [
    "#Hyperparameters\n",
    "batch_size = 32\n",
    "learning_rate = 1e-2\n",
    "epoch_count = 1000\n",
    "val_batch_size = 32\n",
    "weight_decay = 3e-2\n",
    "breakout_percentage = 5e-2\n",
    "dropout = 0.5"
   ]
  },
  {
   "cell_type": "code",
   "execution_count": 23,
   "metadata": {},
   "outputs": [],
   "source": [
    "train_data = torchvision.datasets.Flowers102(\n",
    "    root=\"./data\",\n",
    "    download=True,\n",
    "    split= \"train\",\n",
    "    transform=train_transforms\n",
    ")\n",
    "validation_data = torchvision.datasets.Flowers102(\n",
    "    root=\"./data\",\n",
    "    download=True,\n",
    "    split= \"val\",\n",
    "    transform=test_transforms\n",
    ")\n",
    "test_data = torchvision.datasets.Flowers102(\n",
    "    root=\"./data\",\n",
    "    download=True,\n",
    "    split= \"test\",\n",
    "    transform=test_transforms\n",
    ")"
   ]
  },
  {
   "cell_type": "markdown",
   "metadata": {},
   "source": []
  },
  {
   "cell_type": "code",
   "execution_count": 24,
   "metadata": {},
   "outputs": [],
   "source": [
    "train_loader = torch.utils.data.DataLoader(train_data,batch_size=batch_size,shuffle=True)\n",
    "test_loader = torch.utils.data.DataLoader(test_data,batch_size=batch_size)\n",
    "validation_loader = torch.utils.data.DataLoader(validation_data,val_batch_size,drop_last=True,)"
   ]
  },
  {
   "cell_type": "markdown",
   "metadata": {},
   "source": [
    "## Convolutional Neural Network"
   ]
  },
  {
   "cell_type": "code",
   "execution_count": 25,
   "metadata": {},
   "outputs": [],
   "source": [
    "class cnn(nn.Module):\n",
    "    def __init__(self):\n",
    "        #Layers\n",
    "        \n",
    "        super().__init__()\n",
    "        self.conv1 = nn.Conv2d(3,6,5) # params are input channels, output channels, filter(kernel) size\n",
    "        self.pool1 = nn.MaxPool2d(4,4) # params are kernal size, stride\n",
    "        \n",
    "        self.conv2 = nn.Conv2d(6,12, 2)\n",
    "        self.pool2 = nn.MaxPool2d(4,4)\n",
    "\n",
    "       \n",
    "        self.conv3 = nn.Conv2d(32,64, 2)\n",
    "        self.pool3 = nn.MaxPool2d(4,4)\n",
    "\n",
    "        \n",
    "        self.conv4 = nn.Conv2d(64,128, 2)\n",
    "        self.pool4 = nn.MaxPool2d(4,4)\n",
    "\n",
    "        self.lin1 = nn.Linear(10800,3000) # params are input features, output features\n",
    "        self.lin2 = nn.Linear(3000, 1500)\n",
    "        self.lin3 = nn.Linear(1500,102) #output features must be equal to num of categories\n",
    "        self.lin4 = nn.Linear(500, 102)\n",
    "\n",
    "        self.dropout = nn.Dropout(dropout) #Randomly sets input features to zero to counter overfitting\n",
    "    \n",
    "    def forward(self,x):\n",
    "        \"\"\"Called to pass input data through layers, uses activation function\"\"\"\n",
    "        x = self.conv1(x)\n",
    "        x= F.relu(x)\n",
    "        x = self.pool1(x)\n",
    "\n",
    "        x = self.conv2(x)\n",
    "        x= F.relu(x)\n",
    "        x = self.pool2(x)\n",
    "        \n",
    "        \"\"\" x = self.conv3(x)\n",
    "        x= F.relu(x)\n",
    "        x = self.pool3(x) \"\"\"\n",
    "        \n",
    "        \"\"\" x = self.conv4(x)\n",
    "        x= F.relu(x)\n",
    "        x = self.pool4(x) \"\"\"\n",
    "        \n",
    "\n",
    "        x = torch.flatten(x, 1)\n",
    "\n",
    "        x = self.lin1(x)\n",
    "        x= F.relu(x)\n",
    "        x = self.dropout(x)\n",
    "\n",
    "        x = self.lin2(x)\n",
    "        x= F.relu(x)\n",
    "        x = self.dropout(x)\n",
    "\n",
    "        x = self.lin3(x)\n",
    "        return x\n",
    "\n",
    "model = cnn()\n",
    "\n"
   ]
  },
  {
   "cell_type": "markdown",
   "metadata": {},
   "source": [
    "## Loss function and optimizer"
   ]
  },
  {
   "cell_type": "code",
   "execution_count": 26,
   "metadata": {},
   "outputs": [],
   "source": [
    "loss_fn = nn.CrossEntropyLoss() #  probibalistic good for multiclass uses softmax\n",
    "optimizer = optim.SGD(model.parameters(),learning_rate,weight_decay=weight_decay) #Stochastic gradient descent"
   ]
  },
  {
   "cell_type": "markdown",
   "metadata": {},
   "source": [
    "## Training loop"
   ]
  },
  {
   "cell_type": "code",
   "execution_count": 27,
   "metadata": {},
   "outputs": [
    {
     "name": "stdout",
     "output_type": "stream",
     "text": [
      "[Epoch: 1, Batch progress:     8] loss: 4.627\n",
      "[Epoch: 1, Batch progress:    16] loss: 4.632\n",
      "[Epoch: 1, Batch progress:    24] loss: 4.632\n",
      "[Epoch: 1, Batch progress:    32] loss: 4.622\n",
      "Validation loss: 4.624\n",
      "Breakout if loss > 4.860 and increased from 10.000\n",
      "[Epoch: 2, Batch progress:     8] loss: 4.627\n",
      "[Epoch: 2, Batch progress:    16] loss: 4.625\n",
      "[Epoch: 2, Batch progress:    24] loss: 4.632\n",
      "[Epoch: 2, Batch progress:    32] loss: 4.625\n",
      "Validation loss: 4.622\n",
      "Breakout if loss > 4.859 and increased from 4.624\n",
      "[Epoch: 3, Batch progress:     8] loss: 4.622\n",
      "[Epoch: 3, Batch progress:    16] loss: 4.626\n",
      "[Epoch: 3, Batch progress:    24] loss: 4.625\n",
      "[Epoch: 3, Batch progress:    32] loss: 4.627\n",
      "Validation loss: 4.621\n",
      "Breakout if loss > 4.856 and increased from 4.622\n",
      "[Epoch: 4, Batch progress:     8] loss: 4.624\n",
      "[Epoch: 4, Batch progress:    16] loss: 4.624\n",
      "[Epoch: 4, Batch progress:    24] loss: 4.629\n",
      "[Epoch: 4, Batch progress:    32] loss: 4.619\n",
      "Validation loss: 4.620\n",
      "Breakout if loss > 4.855 and increased from 4.621\n",
      "[Epoch: 5, Batch progress:     8] loss: 4.626\n",
      "[Epoch: 5, Batch progress:    16] loss: 4.622\n",
      "[Epoch: 5, Batch progress:    24] loss: 4.623\n",
      "[Epoch: 5, Batch progress:    32] loss: 4.627\n",
      "Validation loss: 4.619\n",
      "Breakout if loss > 4.855 and increased from 4.620\n",
      "[Epoch: 6, Batch progress:     8] loss: 4.615\n",
      "[Epoch: 6, Batch progress:    16] loss: 4.624\n",
      "[Epoch: 6, Batch progress:    24] loss: 4.622\n",
      "[Epoch: 6, Batch progress:    32] loss: 4.622\n",
      "Validation loss: 4.618\n",
      "Breakout if loss > 4.852 and increased from 4.619\n",
      "[Epoch: 7, Batch progress:     8] loss: 4.619\n",
      "[Epoch: 7, Batch progress:    16] loss: 4.618\n",
      "[Epoch: 7, Batch progress:    24] loss: 4.624\n",
      "[Epoch: 7, Batch progress:    32] loss: 4.623\n",
      "Validation loss: 4.617\n",
      "Breakout if loss > 4.852 and increased from 4.618\n",
      "[Epoch: 8, Batch progress:     8] loss: 4.617\n",
      "[Epoch: 8, Batch progress:    16] loss: 4.619\n",
      "[Epoch: 8, Batch progress:    24] loss: 4.621\n",
      "[Epoch: 8, Batch progress:    32] loss: 4.618\n",
      "Validation loss: 4.616\n",
      "Breakout if loss > 4.849 and increased from 4.617\n",
      "[Epoch: 9, Batch progress:     8] loss: 4.614\n",
      "[Epoch: 9, Batch progress:    16] loss: 4.611\n",
      "[Epoch: 9, Batch progress:    24] loss: 4.620\n",
      "[Epoch: 9, Batch progress:    32] loss: 4.619\n",
      "Validation loss: 4.614\n",
      "Breakout if loss > 4.847 and increased from 4.616\n",
      "[Epoch: 10, Batch progress:     8] loss: 4.610\n",
      "[Epoch: 10, Batch progress:    16] loss: 4.612\n",
      "[Epoch: 10, Batch progress:    24] loss: 4.616\n",
      "[Epoch: 10, Batch progress:    32] loss: 4.613\n",
      "Validation loss: 4.611\n",
      "Breakout if loss > 4.844 and increased from 4.614\n",
      "[Epoch: 11, Batch progress:     8] loss: 4.607\n",
      "[Epoch: 11, Batch progress:    16] loss: 4.613\n",
      "[Epoch: 11, Batch progress:    24] loss: 4.610\n",
      "[Epoch: 11, Batch progress:    32] loss: 4.610\n",
      "Validation loss: 4.607\n",
      "Breakout if loss > 4.840 and increased from 4.611\n",
      "[Epoch: 12, Batch progress:     8] loss: 4.608\n",
      "[Epoch: 12, Batch progress:    16] loss: 4.608\n",
      "[Epoch: 12, Batch progress:    24] loss: 4.608\n",
      "[Epoch: 12, Batch progress:    32] loss: 4.603\n",
      "Validation loss: 4.603\n",
      "Breakout if loss > 4.837 and increased from 4.607\n",
      "[Epoch: 13, Batch progress:     8] loss: 4.607\n",
      "[Epoch: 13, Batch progress:    16] loss: 4.596\n",
      "[Epoch: 13, Batch progress:    24] loss: 4.598\n",
      "[Epoch: 13, Batch progress:    32] loss: 4.592\n",
      "Validation loss: 4.595\n",
      "Breakout if loss > 4.828 and increased from 4.603\n",
      "[Epoch: 14, Batch progress:     8] loss: 4.587\n",
      "[Epoch: 14, Batch progress:    16] loss: 4.596\n",
      "[Epoch: 14, Batch progress:    24] loss: 4.590\n",
      "[Epoch: 14, Batch progress:    32] loss: 4.579\n",
      "Validation loss: 4.580\n",
      "Breakout if loss > 4.818 and increased from 4.595\n",
      "[Epoch: 15, Batch progress:     8] loss: 4.555\n",
      "[Epoch: 15, Batch progress:    16] loss: 4.569\n",
      "[Epoch: 15, Batch progress:    24] loss: 4.575\n",
      "[Epoch: 15, Batch progress:    32] loss: 4.563\n",
      "Validation loss: 4.554\n",
      "Breakout if loss > 4.794 and increased from 4.580\n",
      "[Epoch: 16, Batch progress:     8] loss: 4.582\n",
      "[Epoch: 16, Batch progress:    16] loss: 4.565\n",
      "[Epoch: 16, Batch progress:    24] loss: 4.527\n",
      "[Epoch: 16, Batch progress:    32] loss: 4.527\n",
      "Validation loss: 4.526\n",
      "Breakout if loss > 4.778 and increased from 4.554\n",
      "[Epoch: 17, Batch progress:     8] loss: 4.474\n",
      "[Epoch: 17, Batch progress:    16] loss: 4.513\n",
      "[Epoch: 17, Batch progress:    24] loss: 4.524\n",
      "[Epoch: 17, Batch progress:    32] loss: 4.537\n",
      "Validation loss: 4.501\n",
      "Breakout if loss > 4.737 and increased from 4.526\n",
      "[Epoch: 18, Batch progress:     8] loss: 4.524\n",
      "[Epoch: 18, Batch progress:    16] loss: 4.472\n",
      "[Epoch: 18, Batch progress:    24] loss: 4.476\n",
      "[Epoch: 18, Batch progress:    32] loss: 4.516\n",
      "Validation loss: 4.479\n",
      "Breakout if loss > 4.722 and increased from 4.501\n",
      "[Epoch: 19, Batch progress:     8] loss: 4.512\n",
      "[Epoch: 19, Batch progress:    16] loss: 4.491\n",
      "[Epoch: 19, Batch progress:    24] loss: 4.486\n",
      "[Epoch: 19, Batch progress:    32] loss: 4.473\n",
      "Validation loss: 4.459\n",
      "Breakout if loss > 4.715 and increased from 4.479\n",
      "[Epoch: 20, Batch progress:     8] loss: 4.434\n",
      "[Epoch: 20, Batch progress:    16] loss: 4.477\n",
      "[Epoch: 20, Batch progress:    24] loss: 4.458\n",
      "[Epoch: 20, Batch progress:    32] loss: 4.496\n",
      "Validation loss: 4.435\n",
      "Breakout if loss > 4.689 and increased from 4.459\n",
      "[Epoch: 21, Batch progress:     8] loss: 4.481\n",
      "[Epoch: 21, Batch progress:    16] loss: 4.482\n",
      "[Epoch: 21, Batch progress:    24] loss: 4.395\n",
      "[Epoch: 21, Batch progress:    32] loss: 4.456\n",
      "Validation loss: 4.403\n",
      "Breakout if loss > 4.676 and increased from 4.435\n",
      "[Epoch: 22, Batch progress:     8] loss: 4.454\n",
      "[Epoch: 22, Batch progress:    16] loss: 4.414\n",
      "[Epoch: 22, Batch progress:    24] loss: 4.404\n",
      "[Epoch: 22, Batch progress:    32] loss: 4.442\n",
      "Validation loss: 4.371\n",
      "Breakout if loss > 4.650 and increased from 4.403\n",
      "[Epoch: 23, Batch progress:     8] loss: 4.385\n",
      "[Epoch: 23, Batch progress:    16] loss: 4.367\n",
      "[Epoch: 23, Batch progress:    24] loss: 4.437\n",
      "[Epoch: 23, Batch progress:    32] loss: 4.406\n",
      "Validation loss: 4.342\n",
      "Breakout if loss > 4.619 and increased from 4.371\n",
      "[Epoch: 24, Batch progress:     8] loss: 4.385\n",
      "[Epoch: 24, Batch progress:    16] loss: 4.338\n",
      "[Epoch: 24, Batch progress:    24] loss: 4.402\n",
      "[Epoch: 24, Batch progress:    32] loss: 4.326\n",
      "Validation loss: 4.302\n",
      "Breakout if loss > 4.581 and increased from 4.342\n",
      "[Epoch: 25, Batch progress:     8] loss: 4.340\n",
      "[Epoch: 25, Batch progress:    16] loss: 4.290\n",
      "[Epoch: 25, Batch progress:    24] loss: 4.378\n",
      "[Epoch: 25, Batch progress:    32] loss: 4.389\n",
      "Validation loss: 4.264\n",
      "Breakout if loss > 4.567 and increased from 4.302\n",
      "[Epoch: 26, Batch progress:     8] loss: 4.327\n",
      "[Epoch: 26, Batch progress:    16] loss: 4.336\n",
      "[Epoch: 26, Batch progress:    24] loss: 4.289\n",
      "[Epoch: 26, Batch progress:    32] loss: 4.303\n",
      "Validation loss: 4.238\n",
      "Breakout if loss > 4.529 and increased from 4.264\n",
      "[Epoch: 27, Batch progress:     8] loss: 4.287\n",
      "[Epoch: 27, Batch progress:    16] loss: 4.358\n",
      "[Epoch: 27, Batch progress:    24] loss: 4.341\n",
      "[Epoch: 27, Batch progress:    32] loss: 4.348\n"
     ]
    }
   ],
   "source": [
    "escape_loop = False\n",
    "val_previous_loss=10.0\n",
    "for epoch in range(epoch_count): #loop multiple times\n",
    "    model.train()\n",
    "    compare_loss = 0.0\n",
    "    running_loss = 0.0\n",
    "    val_running_loss = 0.0\n",
    "    val_final_loss = 0.0\n",
    "    breakout_loss = 0.0\n",
    "    for batch, (images,labels) in enumerate(train_loader): # pulls out inputs and labels from training data)\n",
    "        optimizer.zero_grad() #zero parameter gradients\n",
    "        \n",
    "        #forward cnn, backpropagation (backward and optimize)\n",
    "        outputs = model(images)\n",
    "        loss = loss_fn(outputs,labels)\n",
    "        loss.backward()\n",
    "        optimizer.step()\n",
    "        \n",
    "        #print statistics\n",
    "        running_loss += loss.item()\n",
    "        if((batch+1)%8 == 0):\n",
    "            print(f\"[Epoch: {epoch + 1}, Batch progress: {batch + 1:5d}] loss: {running_loss/8:.3f}\") \n",
    "            compare_loss += running_loss/8\n",
    "            running_loss = 0.0\n",
    "\n",
    "    #Each epoch calculate validation loss as to know if to break out due to overfitting\n",
    "    model.eval()\n",
    "    with torch.no_grad(): # in validation, don't need to calculate gradients for ouputs\n",
    "        for i,(val_images,val_labels) in enumerate(validation_loader):\n",
    "            val_outputs = model(val_images)\n",
    "            val_loss = loss_fn(val_outputs,val_labels)\n",
    "            val_running_loss += val_loss.item()\n",
    "        val_final_loss = val_running_loss/(i+1)\n",
    "        print(f\"Validation loss: {val_final_loss:.3f}\")\n",
    "    \n",
    "    #Breakout clause\n",
    "    #if validation loss is > loss + 5% exit\n",
    "    compare_loss /=4\n",
    "    breakout_loss = (compare_loss + (compare_loss *breakout_percentage))\n",
    "    print(f\"Breakout if loss > {breakout_loss:.3f} and increased from {val_previous_loss:.3f}\")\n",
    "    if((val_final_loss > breakout_loss)and(val_final_loss > val_previous_loss)):\n",
    "        print(\"Broken out\")\n",
    "        break\n",
    "    val_previous_loss = val_final_loss\n",
    "    \n",
    "    \n",
    "print(\"Training complete\")"
   ]
  },
  {
   "cell_type": "markdown",
   "metadata": {},
   "source": [
    "## Test model"
   ]
  },
  {
   "cell_type": "code",
   "execution_count": null,
   "metadata": {},
   "outputs": [
    {
     "name": "stdout",
     "output_type": "stream",
     "text": [
      "Accuracy of the network on the test images: 17.25484 %\n"
     ]
    }
   ],
   "source": [
    "correct = 0\n",
    "total = 0\n",
    "accuracy = 0\n",
    "model.eval()\n",
    "with torch.no_grad(): # in testing, don't need to calculate gradients for ouputs\n",
    "    for (images,labels) in test_loader:\n",
    "        outputs = model(images)\n",
    "        _, predicted = torch.max(outputs.data,1) # returns predicted class labels in one dimension\n",
    "        total += labels.size(0) #adds number of samples in batch to total sample count\n",
    "        correct += (predicted == labels).sum().item()\n",
    "\n",
    "test_accuracy = 100 * correct / total\n",
    "print(f\"Accuracy of the network on the test images: {test_accuracy:.5f} %\")"
   ]
  },
  {
   "cell_type": "markdown",
   "metadata": {},
   "source": [
    "## Save model"
   ]
  },
  {
   "cell_type": "code",
   "execution_count": null,
   "metadata": {},
   "outputs": [],
   "source": [
    "torch.save(model.state_dict(), f\"models/model_accuracy_{test_accuracy:.5f}.pt\")"
   ]
  }
 ],
 "metadata": {
  "kernelspec": {
   "display_name": "base",
   "language": "python",
   "name": "python3"
  },
  "language_info": {
   "codemirror_mode": {
    "name": "ipython",
    "version": 3
   },
   "file_extension": ".py",
   "mimetype": "text/x-python",
   "name": "python",
   "nbconvert_exporter": "python",
   "pygments_lexer": "ipython3",
   "version": "3.9.18"
  }
 },
 "nbformat": 4,
 "nbformat_minor": 2
}
