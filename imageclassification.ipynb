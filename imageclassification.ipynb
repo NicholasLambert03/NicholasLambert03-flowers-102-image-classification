{
 "cells": [
  {
   "cell_type": "markdown",
   "metadata": {},
   "source": [
    "# Flowers-102 Image Classification"
   ]
  },
  {
   "cell_type": "markdown",
   "metadata": {},
   "source": [
    "## Imports"
   ]
  },
  {
   "cell_type": "code",
   "execution_count": 19,
   "metadata": {},
   "outputs": [],
   "source": [
    "import torch\n",
    "import torchvision\n",
    "#following import name conventions\n",
    "import torchvision.transforms.v2 as transforms\n",
    "import torch.nn as nn\n",
    "import torch.nn.functional as F\n",
    "import torch.optim as optim\n",
    "import copy\n"
   ]
  },
  {
   "cell_type": "markdown",
   "metadata": {},
   "source": [
    "## Processor choice"
   ]
  },
  {
   "cell_type": "code",
   "execution_count": 20,
   "metadata": {},
   "outputs": [],
   "source": [
    "#Use GPU if possible\n",
    "device = (\n",
    "    \"cuda\"\n",
    "    if torch.cuda.is_available()\n",
    "    else \"mps\"\n",
    "    if torch.backends.mps.is_available()\n",
    "    else \"cpu\"\n",
    ")"
   ]
  },
  {
   "cell_type": "markdown",
   "metadata": {},
   "source": [
    "## Loading and Normalising Data"
   ]
  },
  {
   "cell_type": "code",
   "execution_count": 21,
   "metadata": {},
   "outputs": [],
   "source": [
    "#Transform to be ran on data\n",
    "train_transforms = transforms.Compose([\n",
    "    \n",
    "    transforms.RandomResizedCrop((256,256)),\n",
    "    transforms.RandomPerspective(),\n",
    "    transforms.RandomHorizontalFlip(), #reduce bias with image flip\n",
    "    transforms.RandomRotation(30), #reduce bias with random angles\n",
    "    transforms.ColorJitter(brightness=0.5,contrast=0.5,hue=0.2),\n",
    "\n",
    "    \n",
    "    transforms.ToTensor(),\n",
    "    transforms.Normalize((0.485, 0.456, 0.406), (0.229, 0.224, 0.225)) #mean and std of dataset\n",
    "])\n",
    "\n",
    "test_transforms = transforms.Compose([\n",
    "    transforms.Resize((256,256)),\n",
    "\n",
    "    transforms.ToTensor(),\n",
    "    transforms.Normalize((0.485, 0.456, 0.406), (0.229, 0.224, 0.225)) #mean and std of dataset\n",
    "])"
   ]
  },
  {
   "cell_type": "markdown",
   "metadata": {},
   "source": [
    "### Hyperparameters"
   ]
  },
  {
   "cell_type": "code",
   "execution_count": 22,
   "metadata": {},
   "outputs": [],
   "source": [
    "#Hyperparameters\n",
    "batch_size = 32\n",
    "learning_rate = 1e-3\n",
    "epoch_count = 1000\n",
    "val_batch_size = 32\n",
    "weight_decay = 3e-4\n",
    "breakout_percentage = 2e-1\n",
    "dropout = 0.5"
   ]
  },
  {
   "cell_type": "code",
   "execution_count": 23,
   "metadata": {},
   "outputs": [],
   "source": [
    "train_data = torchvision.datasets.Flowers102(\n",
    "    root=\"./data\",\n",
    "    download=True,\n",
    "    split= \"train\",\n",
    "    transform=train_transforms\n",
    ")\n",
    "validation_data = torchvision.datasets.Flowers102(\n",
    "    root=\"./data\",\n",
    "    download=True,\n",
    "    split= \"val\",\n",
    "    transform=test_transforms\n",
    ")\n",
    "test_data = torchvision.datasets.Flowers102(\n",
    "    root=\"./data\",\n",
    "    download=True,\n",
    "    split= \"test\",\n",
    "    transform=test_transforms\n",
    ")"
   ]
  },
  {
   "cell_type": "markdown",
   "metadata": {},
   "source": []
  },
  {
   "cell_type": "code",
   "execution_count": 24,
   "metadata": {},
   "outputs": [],
   "source": [
    "train_loader = torch.utils.data.DataLoader(train_data,batch_size=batch_size,shuffle=True)\n",
    "test_loader = torch.utils.data.DataLoader(test_data,batch_size=batch_size)\n",
    "validation_loader = torch.utils.data.DataLoader(validation_data,val_batch_size,drop_last=True,)"
   ]
  },
  {
   "cell_type": "markdown",
   "metadata": {},
   "source": [
    "## Convolutional Neural Network"
   ]
  },
  {
   "cell_type": "code",
   "execution_count": 25,
   "metadata": {},
   "outputs": [],
   "source": [
    "class cnn(nn.Module):\n",
    "    def __init__(self):\n",
    "        #Layers\n",
    "        \n",
    "        super().__init__()\n",
    "        self.conv1 = nn.Conv2d(3,16,3)\n",
    "        self.batchnorm1 = nn.BatchNorm2d(16) # params are input channels, output channels, filter(kernel) size\n",
    "        self.pool1 = nn.MaxPool2d(2,2) # params are kernal size, stride\n",
    "\n",
    "        self.conv2 = nn.Conv2d(16,32, 3)\n",
    "        self.batchnorm2 = nn.BatchNorm2d(32)\n",
    "        self.pool2 = nn.MaxPool2d(2,2)\n",
    "\n",
    "       \n",
    "        self.conv3 = nn.Conv2d(32,64, 3)\n",
    "        self.batchnorm3 = nn.BatchNorm2d(64)\n",
    "        self.pool3 = nn.MaxPool2d(2,2)\n",
    "\n",
    "        \n",
    "        self.conv4 = nn.Conv2d(64,128, 3)\n",
    "        self.batchnorm4 = nn.BatchNorm2d(128)\n",
    "        self.pool4 = nn.MaxPool2d(2,2)\n",
    "\n",
    "       \n",
    "\n",
    "\n",
    "\n",
    "        self.lin1 = nn.Linear(57600,1000)\n",
    "        self.lin2 = nn.Linear(1000,102) #output features must be equal to num of categories\n",
    "        self.dropout = nn.Dropout(dropout) #Randomly sets input features to zero to counter overfitting\n",
    "    \n",
    "    def forward(self,x):\n",
    "        \"\"\"Called to pass input data through layers, uses activation function\"\"\"\n",
    "        \n",
    "        x = self.conv1(x)\n",
    "        x = self.batchnorm1(x)\n",
    "        x= F.relu(x)\n",
    "        x = self.pool1(x)\n",
    "\n",
    "        x = self.conv2(x)\n",
    "        x = self.batchnorm2(x)\n",
    "        x= F.relu(x)\n",
    "        x = self.pool2(x)\n",
    "\n",
    "        x = self.conv3(x)\n",
    "        x = self.batchnorm3(x)\n",
    "        x= F.relu(x)\n",
    "        x= self.pool3(x)\n",
    "\n",
    "        x = torch.flatten(x, 1)\n",
    "\n",
    "        x = self.lin1(x)\n",
    "        x= F.relu(x)\n",
    "        x = self.dropout(x)\n",
    "\n",
    "\n",
    "        x = self.lin2(x)\n",
    "    \n",
    "        return x\n",
    "\n",
    "model = cnn().to(device)\n",
    "\n"
   ]
  },
  {
   "cell_type": "markdown",
   "metadata": {},
   "source": [
    "## Loss function and optimizer"
   ]
  },
  {
   "cell_type": "code",
   "execution_count": 26,
   "metadata": {},
   "outputs": [],
   "source": [
    "loss_fn = nn.CrossEntropyLoss() #  probibalistic good for multiclass uses softmax\n",
    "optimizer = optim.SGD(model.parameters(),learning_rate,weight_decay=weight_decay) #Stochastic gradient descent"
   ]
  },
  {
   "cell_type": "markdown",
   "metadata": {},
   "source": [
    "## Training loop"
   ]
  },
  {
   "cell_type": "code",
   "execution_count": 27,
   "metadata": {},
   "outputs": [
    {
     "name": "stdout",
     "output_type": "stream",
     "text": [
      "[Epoch: 1, Batch progress:     8] loss: 4.631\n",
      "[Epoch: 1, Batch progress:    16] loss: 4.627\n"
     ]
    },
    {
     "ename": "KeyboardInterrupt",
     "evalue": "",
     "output_type": "error",
     "traceback": [
      "\u001b[1;31m---------------------------------------------------------------------------\u001b[0m",
      "\u001b[1;31mKeyboardInterrupt\u001b[0m                         Traceback (most recent call last)",
      "Cell \u001b[1;32mIn[27], line 17\u001b[0m\n\u001b[0;32m     15\u001b[0m outputs \u001b[38;5;241m=\u001b[39m model(images)\n\u001b[0;32m     16\u001b[0m loss \u001b[38;5;241m=\u001b[39m loss_fn(outputs,labels)\n\u001b[1;32m---> 17\u001b[0m \u001b[43mloss\u001b[49m\u001b[38;5;241;43m.\u001b[39;49m\u001b[43mbackward\u001b[49m\u001b[43m(\u001b[49m\u001b[43m)\u001b[49m\n\u001b[0;32m     18\u001b[0m optimizer\u001b[38;5;241m.\u001b[39mstep()\n\u001b[0;32m     20\u001b[0m \u001b[38;5;66;03m#print statistics\u001b[39;00m\n",
      "File \u001b[1;32mc:\\Users\\nicho\\anaconda3\\lib\\site-packages\\torch\\_tensor.py:525\u001b[0m, in \u001b[0;36mTensor.backward\u001b[1;34m(self, gradient, retain_graph, create_graph, inputs)\u001b[0m\n\u001b[0;32m    515\u001b[0m \u001b[38;5;28;01mif\u001b[39;00m has_torch_function_unary(\u001b[38;5;28mself\u001b[39m):\n\u001b[0;32m    516\u001b[0m     \u001b[38;5;28;01mreturn\u001b[39;00m handle_torch_function(\n\u001b[0;32m    517\u001b[0m         Tensor\u001b[38;5;241m.\u001b[39mbackward,\n\u001b[0;32m    518\u001b[0m         (\u001b[38;5;28mself\u001b[39m,),\n\u001b[1;32m   (...)\u001b[0m\n\u001b[0;32m    523\u001b[0m         inputs\u001b[38;5;241m=\u001b[39minputs,\n\u001b[0;32m    524\u001b[0m     )\n\u001b[1;32m--> 525\u001b[0m \u001b[43mtorch\u001b[49m\u001b[38;5;241;43m.\u001b[39;49m\u001b[43mautograd\u001b[49m\u001b[38;5;241;43m.\u001b[39;49m\u001b[43mbackward\u001b[49m\u001b[43m(\u001b[49m\n\u001b[0;32m    526\u001b[0m \u001b[43m    \u001b[49m\u001b[38;5;28;43mself\u001b[39;49m\u001b[43m,\u001b[49m\u001b[43m \u001b[49m\u001b[43mgradient\u001b[49m\u001b[43m,\u001b[49m\u001b[43m \u001b[49m\u001b[43mretain_graph\u001b[49m\u001b[43m,\u001b[49m\u001b[43m \u001b[49m\u001b[43mcreate_graph\u001b[49m\u001b[43m,\u001b[49m\u001b[43m \u001b[49m\u001b[43minputs\u001b[49m\u001b[38;5;241;43m=\u001b[39;49m\u001b[43minputs\u001b[49m\n\u001b[0;32m    527\u001b[0m \u001b[43m\u001b[49m\u001b[43m)\u001b[49m\n",
      "File \u001b[1;32mc:\\Users\\nicho\\anaconda3\\lib\\site-packages\\torch\\autograd\\__init__.py:267\u001b[0m, in \u001b[0;36mbackward\u001b[1;34m(tensors, grad_tensors, retain_graph, create_graph, grad_variables, inputs)\u001b[0m\n\u001b[0;32m    262\u001b[0m     retain_graph \u001b[38;5;241m=\u001b[39m create_graph\n\u001b[0;32m    264\u001b[0m \u001b[38;5;66;03m# The reason we repeat the same comment below is that\u001b[39;00m\n\u001b[0;32m    265\u001b[0m \u001b[38;5;66;03m# some Python versions print out the first line of a multi-line function\u001b[39;00m\n\u001b[0;32m    266\u001b[0m \u001b[38;5;66;03m# calls in the traceback and some print out the last line\u001b[39;00m\n\u001b[1;32m--> 267\u001b[0m \u001b[43m_engine_run_backward\u001b[49m\u001b[43m(\u001b[49m\n\u001b[0;32m    268\u001b[0m \u001b[43m    \u001b[49m\u001b[43mtensors\u001b[49m\u001b[43m,\u001b[49m\n\u001b[0;32m    269\u001b[0m \u001b[43m    \u001b[49m\u001b[43mgrad_tensors_\u001b[49m\u001b[43m,\u001b[49m\n\u001b[0;32m    270\u001b[0m \u001b[43m    \u001b[49m\u001b[43mretain_graph\u001b[49m\u001b[43m,\u001b[49m\n\u001b[0;32m    271\u001b[0m \u001b[43m    \u001b[49m\u001b[43mcreate_graph\u001b[49m\u001b[43m,\u001b[49m\n\u001b[0;32m    272\u001b[0m \u001b[43m    \u001b[49m\u001b[43minputs\u001b[49m\u001b[43m,\u001b[49m\n\u001b[0;32m    273\u001b[0m \u001b[43m    \u001b[49m\u001b[43mallow_unreachable\u001b[49m\u001b[38;5;241;43m=\u001b[39;49m\u001b[38;5;28;43;01mTrue\u001b[39;49;00m\u001b[43m,\u001b[49m\n\u001b[0;32m    274\u001b[0m \u001b[43m    \u001b[49m\u001b[43maccumulate_grad\u001b[49m\u001b[38;5;241;43m=\u001b[39;49m\u001b[38;5;28;43;01mTrue\u001b[39;49;00m\u001b[43m,\u001b[49m\n\u001b[0;32m    275\u001b[0m \u001b[43m\u001b[49m\u001b[43m)\u001b[49m\n",
      "File \u001b[1;32mc:\\Users\\nicho\\anaconda3\\lib\\site-packages\\torch\\autograd\\graph.py:744\u001b[0m, in \u001b[0;36m_engine_run_backward\u001b[1;34m(t_outputs, *args, **kwargs)\u001b[0m\n\u001b[0;32m    742\u001b[0m     unregister_hooks \u001b[38;5;241m=\u001b[39m _register_logging_hooks_on_whole_graph(t_outputs)\n\u001b[0;32m    743\u001b[0m \u001b[38;5;28;01mtry\u001b[39;00m:\n\u001b[1;32m--> 744\u001b[0m     \u001b[38;5;28;01mreturn\u001b[39;00m Variable\u001b[38;5;241m.\u001b[39m_execution_engine\u001b[38;5;241m.\u001b[39mrun_backward(  \u001b[38;5;66;03m# Calls into the C++ engine to run the backward pass\u001b[39;00m\n\u001b[0;32m    745\u001b[0m         t_outputs, \u001b[38;5;241m*\u001b[39margs, \u001b[38;5;241m*\u001b[39m\u001b[38;5;241m*\u001b[39mkwargs\n\u001b[0;32m    746\u001b[0m     )  \u001b[38;5;66;03m# Calls into the C++ engine to run the backward pass\u001b[39;00m\n\u001b[0;32m    747\u001b[0m \u001b[38;5;28;01mfinally\u001b[39;00m:\n\u001b[0;32m    748\u001b[0m     \u001b[38;5;28;01mif\u001b[39;00m attach_logging_hooks:\n",
      "\u001b[1;31mKeyboardInterrupt\u001b[0m: "
     ]
    }
   ],
   "source": [
    "escape_loop = False\n",
    "lowest_val_loss = 10.0\n",
    "val_previous_loss=10.0\n",
    "for epoch in range(epoch_count): #loop multiple times\n",
    "    model.train()\n",
    "    compare_loss = 0.0\n",
    "    running_loss = 0.0\n",
    "    val_running_loss = 0.0\n",
    "    val_final_loss = 0.0\n",
    "    breakout_loss = 0.0\n",
    "    for batch, (images,labels) in enumerate(train_loader): # pulls out inputs and labels from training data)\n",
    "        optimizer.zero_grad() #zero parameter gradients\n",
    "        \n",
    "        #forward cnn, backpropagation (backward and optimize)\n",
    "        outputs = model(images)\n",
    "        loss = loss_fn(outputs,labels)\n",
    "        loss.backward()\n",
    "        optimizer.step()\n",
    "        \n",
    "        #print statistics\n",
    "        running_loss += loss.item()\n",
    "        if((batch+1)%8 == 0):\n",
    "            print(f\"[Epoch: {epoch + 1}, Batch progress: {batch + 1:5d}] loss: {running_loss/8:.3f}\") \n",
    "            compare_loss += running_loss/8\n",
    "            running_loss = 0.0\n",
    "\n",
    "    #Each epoch calculate validation loss as to know if to break out due to overfitting\n",
    "    model.eval()\n",
    "    with torch.no_grad(): # in validation, don't need to calculate gradients for ouputs\n",
    "        correct = 0\n",
    "        total = 0\n",
    "        val_acc = 0\n",
    "        for i,(val_images,val_labels) in enumerate(validation_loader):\n",
    "            val_outputs = model(val_images)\n",
    "            _, predicted = torch.max(val_outputs.data,1) # returns predicted class labels in one dimension\n",
    "            total += val_labels.size(0) #adds number of samples in batch to total sample count\n",
    "            correct += (predicted == val_labels).sum().item()\n",
    "            val_loss = loss_fn(val_outputs,val_labels)\n",
    "            val_running_loss += val_loss.item()\n",
    "            val_acc = 100 * correct / total\n",
    "        val_final_loss = val_running_loss/(i+1)\n",
    "        print(f\"Validation loss: {val_final_loss:.3f} Accuracy: {val_acc:.5f}%\")\n",
    "    \n",
    "    #Breakout clause\n",
    "    #if validation loss is > loss + 5% exit\n",
    "    compare_loss /=4\n",
    "    breakout_loss = (compare_loss + (compare_loss *breakout_percentage))\n",
    "    print(f\"Breakout if loss > {breakout_loss:.3f} and increased from {val_previous_loss:.3f}\")\n",
    "    if((val_final_loss > breakout_loss)and(val_final_loss > val_previous_loss)):\n",
    "        print(\"Broken out\")\n",
    "        break\n",
    "    if val_final_loss < lowest_val_loss: # Saves best fit model rather than model where begins to get worse\n",
    "       best_model = copy.deepcopy(model.state_dict())\n",
    "       lowest_val_loss = val_final_loss\n",
    "       print(\"NEW BEST\")\n",
    "    val_previous_loss = val_final_loss\n",
    "    \n",
    "print(\"Training complete\")"
   ]
  },
  {
   "cell_type": "markdown",
   "metadata": {},
   "source": [
    "## Test model"
   ]
  },
  {
   "cell_type": "code",
   "execution_count": null,
   "metadata": {},
   "outputs": [
    {
     "name": "stdout",
     "output_type": "stream",
     "text": [
      "Accuracy of the network on the test images: 9.05838 %\n"
     ]
    }
   ],
   "source": [
    "correct = 0\n",
    "total = 0\n",
    "accuracy = 0\n",
    "model.load_state_dict(best_model)\n",
    "model.eval()\n",
    "with torch.no_grad(): # in testing, don't need to calculate gradients for ouputs\n",
    "    for (images,labels) in test_loader:\n",
    "        outputs = model(images)\n",
    "        _, predicted = torch.max(outputs.data,1) # returns predicted class labels in one dimension\n",
    "        total += labels.size(0) #adds number of samples in batch to total sample count\n",
    "        correct += (predicted == labels).sum().item()\n",
    "\n",
    "test_accuracy = 100 * correct / total\n",
    "print(f\"Accuracy of the network on the test images: {test_accuracy:.5f} %\")"
   ]
  },
  {
   "cell_type": "markdown",
   "metadata": {},
   "source": [
    "## Save model"
   ]
  },
  {
   "cell_type": "code",
   "execution_count": null,
   "metadata": {},
   "outputs": [],
   "source": [
    "torch.save(best_model, f\"models/model_accuracy_{test_accuracy:.5f}.pt\")"
   ]
  }
 ],
 "metadata": {
  "kernelspec": {
   "display_name": "base",
   "language": "python",
   "name": "python3"
  },
  "language_info": {
   "codemirror_mode": {
    "name": "ipython",
    "version": 3
   },
   "file_extension": ".py",
   "mimetype": "text/x-python",
   "name": "python",
   "nbconvert_exporter": "python",
   "pygments_lexer": "ipython3",
   "version": "3.9.18"
  }
 },
 "nbformat": 4,
 "nbformat_minor": 2
}
