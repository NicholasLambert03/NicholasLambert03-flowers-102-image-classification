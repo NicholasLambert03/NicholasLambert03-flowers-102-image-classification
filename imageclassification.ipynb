{
 "cells": [
  {
   "cell_type": "markdown",
   "metadata": {},
   "source": [
    "# Flowers-102 Image Classification"
   ]
  },
  {
   "cell_type": "markdown",
   "metadata": {},
   "source": [
    "## Imports"
   ]
  },
  {
   "cell_type": "code",
   "execution_count": 398,
   "metadata": {},
   "outputs": [],
   "source": [
    "import torch\n",
    "import torchvision\n",
    "#following import name conventions\n",
    "import torchvision.transforms.v2 as transforms\n",
    "import torch.nn as nn\n",
    "import torch.nn.functional as F\n",
    "import torch.optim as optim"
   ]
  },
  {
   "cell_type": "markdown",
   "metadata": {},
   "source": [
    "## Processor choice"
   ]
  },
  {
   "cell_type": "code",
   "execution_count": 399,
   "metadata": {},
   "outputs": [],
   "source": [
    "#Use GPU if possible\n",
    "device = (\n",
    "    \"cuda\"\n",
    "    if torch.cuda.is_available()\n",
    "    else \"mps\"\n",
    "    if torch.backends.mps.is_available()\n",
    "    else \"cpu\"\n",
    ")"
   ]
  },
  {
   "cell_type": "markdown",
   "metadata": {},
   "source": [
    "## Loading and Normalising Data"
   ]
  },
  {
   "cell_type": "code",
   "execution_count": 400,
   "metadata": {},
   "outputs": [
    {
     "name": "stderr",
     "output_type": "stream",
     "text": [
      "c:\\Users\\nicho\\anaconda3\\lib\\site-packages\\torchvision\\transforms\\v2\\_deprecated.py:42: UserWarning: The transform `ToTensor()` is deprecated and will be removed in a future release. Instead, please use `v2.Compose([v2.ToImage(), v2.ToDtype(torch.float32, scale=True)])`.Output is equivalent up to float precision.\n",
      "  warnings.warn(\n"
     ]
    }
   ],
   "source": [
    "#Transform to be ran on data\n",
    "train_transforms = transforms.Compose([\n",
    "    transforms.Resize((500,500)),\n",
    "    transforms.RandomHorizontalFlip(), #reduce bias with image flip\n",
    "    transforms.RandomRotation(10), #reduce bias with random angles\n",
    "    \n",
    "    transforms.ToTensor(),\n",
    "    transforms.Normalize((0.5151, 0.4092, 0.3384), (0.2505, 0.2084, 0.2139)) #mean and std of dataset\n",
    "])\n",
    "\n",
    "test_transforms = transforms.Compose([\n",
    "    transforms.Resize((500,500)),\n",
    "\n",
    "    transforms.ToTensor(),\n",
    "    transforms.Normalize((0.5151, 0.4092, 0.3384), (0.2505, 0.2084, 0.2139)) #mean and std of dataset\n",
    "])"
   ]
  },
  {
   "cell_type": "code",
   "execution_count": 401,
   "metadata": {},
   "outputs": [],
   "source": [
    "#Hyperparameters\n",
    "batch_size = 32\n",
    "learning_rate = 0.01\n",
    "epoch_count = 100\n",
    "escape_loss = 0.01\n",
    "val_batch_size = 28"
   ]
  },
  {
   "cell_type": "code",
   "execution_count": 402,
   "metadata": {},
   "outputs": [],
   "source": [
    "train_data = torchvision.datasets.Flowers102(\n",
    "    root=\"./data\",\n",
    "    download=True,\n",
    "    split= \"train\",\n",
    "    transform=train_transforms\n",
    ")\n",
    "validation_data = torchvision.datasets.Flowers102(\n",
    "    root=\"./data\",\n",
    "    download=True,\n",
    "    split= \"val\",\n",
    "    transform=test_transforms\n",
    ")\n",
    "test_data = torchvision.datasets.Flowers102(\n",
    "    root=\"./data\",\n",
    "    download=True,\n",
    "    split= \"test\",\n",
    "    transform=test_transforms\n",
    ")"
   ]
  },
  {
   "cell_type": "code",
   "execution_count": 403,
   "metadata": {},
   "outputs": [],
   "source": [
    "train_loader = torch.utils.data.DataLoader(train_data,batch_size=batch_size,shuffle=True)\n",
    "test_loader = torch.utils.data.DataLoader(test_data,batch_size=batch_size)\n",
    "validation_loader = torch.utils.data.DataLoader(validation_data,val_batch_size,drop_last=True,)"
   ]
  },
  {
   "cell_type": "markdown",
   "metadata": {},
   "source": [
    "## Convolutional Neural Network"
   ]
  },
  {
   "cell_type": "code",
   "execution_count": 404,
   "metadata": {},
   "outputs": [],
   "source": [
    "class cnn(nn.Module):\n",
    "    def __init__(self):\n",
    "        #Layers\n",
    "        \n",
    "        super().__init__()\n",
    "        self.conv1 = nn.Conv2d(3, 6, 5) # params are input channels, output channels, filter(kernel) size\n",
    "        self.pool = nn.MaxPool2d(2,2) # params are kernal size, stride\n",
    "        self.conv2 = nn.Conv2d(6, 5, 5)\n",
    "\n",
    "        self.lin1 = nn.Linear(74420,400) # params are input features, output features\n",
    "        self.lin2 = nn.Linear(400, 200)\n",
    "        self.lin3 = nn.Linear(200,102) #output features must be equal to num of categories\n",
    "    \n",
    "    def forward(self,x):\n",
    "        \"\"\"Called to pass input data through layers, uses activation function\"\"\"\n",
    "        x = self.pool(F.relu(self.conv1(x)))\n",
    "        x = self.pool(F.relu(self.conv2(x)))\n",
    "\n",
    "        x = torch.flatten(x, 1)\n",
    "        x = F.relu(self.lin1(x))\n",
    "        x = F.relu(self.lin2(x))\n",
    "        x = self.lin3(x)\n",
    "        return x\n",
    "\n",
    "model = cnn()\n",
    "\n"
   ]
  },
  {
   "cell_type": "markdown",
   "metadata": {},
   "source": [
    "## Loss function and optimizer"
   ]
  },
  {
   "cell_type": "code",
   "execution_count": 405,
   "metadata": {},
   "outputs": [],
   "source": [
    "loss_fn = nn.CrossEntropyLoss() #  probibalistic good for multiclass uses softmax\n",
    "optimizer = optim.SGD(model.parameters(),learning_rate) #Stochastic gradient descent"
   ]
  },
  {
   "cell_type": "markdown",
   "metadata": {},
   "source": [
    "## Training loop"
   ]
  },
  {
   "cell_type": "code",
   "execution_count": 406,
   "metadata": {},
   "outputs": [
    {
     "name": "stdout",
     "output_type": "stream",
     "text": [
      "[Epoch: 1, Batch progress:     8] loss: 4.623\n",
      "[Epoch: 1, Batch progress:    16] loss: 4.627\n",
      "[Epoch: 1, Batch progress:    24] loss: 4.624\n",
      "[Epoch: 1, Batch progress:    32] loss: 4.626\n",
      "Validation loss: 4.622\n",
      "[Epoch: 2, Batch progress:     8] loss: 4.619\n",
      "[Epoch: 2, Batch progress:    16] loss: 4.621\n",
      "[Epoch: 2, Batch progress:    24] loss: 4.622\n",
      "[Epoch: 2, Batch progress:    32] loss: 4.615\n",
      "Validation loss: 4.614\n",
      "[Epoch: 3, Batch progress:     8] loss: 4.608\n",
      "[Epoch: 3, Batch progress:    16] loss: 4.605\n",
      "[Epoch: 3, Batch progress:    24] loss: 4.603\n",
      "[Epoch: 3, Batch progress:    32] loss: 4.593\n",
      "Validation loss: 4.581\n",
      "[Epoch: 4, Batch progress:     8] loss: 4.552\n",
      "[Epoch: 4, Batch progress:    16] loss: 4.555\n",
      "[Epoch: 4, Batch progress:    24] loss: 4.529\n",
      "[Epoch: 4, Batch progress:    32] loss: 4.502\n",
      "Validation loss: 4.452\n",
      "[Epoch: 5, Batch progress:     8] loss: 4.396\n",
      "[Epoch: 5, Batch progress:    16] loss: 4.411\n",
      "[Epoch: 5, Batch progress:    24] loss: 4.314\n",
      "[Epoch: 5, Batch progress:    32] loss: 4.376\n",
      "Validation loss: 4.262\n",
      "[Epoch: 6, Batch progress:     8] loss: 4.180\n",
      "[Epoch: 6, Batch progress:    16] loss: 4.121\n",
      "[Epoch: 6, Batch progress:    24] loss: 4.082\n",
      "[Epoch: 6, Batch progress:    32] loss: 4.093\n",
      "Validation loss: 4.138\n",
      "[Epoch: 7, Batch progress:     8] loss: 4.001\n",
      "[Epoch: 7, Batch progress:    16] loss: 3.917\n",
      "[Epoch: 7, Batch progress:    24] loss: 3.845\n",
      "[Epoch: 7, Batch progress:    32] loss: 3.930\n",
      "Validation loss: 4.007\n",
      "[Epoch: 8, Batch progress:     8] loss: 3.719\n",
      "[Epoch: 8, Batch progress:    16] loss: 3.685\n",
      "[Epoch: 8, Batch progress:    24] loss: 3.664\n",
      "[Epoch: 8, Batch progress:    32] loss: 3.741\n",
      "Validation loss: 4.014\n",
      "[Epoch: 9, Batch progress:     8] loss: 3.653\n",
      "[Epoch: 9, Batch progress:    16] loss: 3.458\n",
      "[Epoch: 9, Batch progress:    24] loss: 3.498\n",
      "[Epoch: 9, Batch progress:    32] loss: 3.632\n",
      "Validation loss: 3.885\n",
      "[Epoch: 10, Batch progress:     8] loss: 3.343\n",
      "[Epoch: 10, Batch progress:    16] loss: 3.294\n",
      "[Epoch: 10, Batch progress:    24] loss: 3.420\n",
      "[Epoch: 10, Batch progress:    32] loss: 3.399\n",
      "Validation loss: 3.931\n",
      "[Epoch: 11, Batch progress:     8] loss: 3.232\n",
      "[Epoch: 11, Batch progress:    16] loss: 3.159\n",
      "[Epoch: 11, Batch progress:    24] loss: 3.278\n",
      "[Epoch: 11, Batch progress:    32] loss: 3.148\n",
      "Validation loss: 4.036\n",
      "[Epoch: 12, Batch progress:     8] loss: 2.864\n",
      "[Epoch: 12, Batch progress:    16] loss: 3.135\n",
      "[Epoch: 12, Batch progress:    24] loss: 3.172\n",
      "[Epoch: 12, Batch progress:    32] loss: 3.065\n",
      "Validation loss: 3.789\n",
      "[Epoch: 13, Batch progress:     8] loss: 2.768\n",
      "[Epoch: 13, Batch progress:    16] loss: 2.912\n",
      "[Epoch: 13, Batch progress:    24] loss: 2.981\n",
      "[Epoch: 13, Batch progress:    32] loss: 2.895\n"
     ]
    }
   ],
   "source": [
    "escape_loop = False\n",
    "for epoch in range(epoch_count): #loop multiple times\n",
    "    model.train()\n",
    "    running_loss = 0.0\n",
    "    val_running_loss = 0.0\n",
    "    if escape_loop == True:\n",
    "        escape_loop = False\n",
    "        break\n",
    "    for batch, (images,labels) in enumerate(train_loader): # pulls out inputs and labels from training data\n",
    "        optimizer.zero_grad() #zero parameter gradients\n",
    "        \n",
    "        #forward cnn, backpropagation (backward and optimize)\n",
    "        outputs = model(images)\n",
    "        loss = loss_fn(outputs,labels)\n",
    "        loss.backward()\n",
    "        optimizer.step()\n",
    "        \n",
    "        #print statistics\n",
    "        running_loss += loss.item()\n",
    "        if((batch+1)%8 == 0):\n",
    "            print(f\"[Epoch: {epoch + 1}, Batch progress: {batch + 1:5d}] loss: {running_loss/8:.3f}\") \n",
    "            running_loss = 0.0\n",
    "\n",
    "    #Each epoch calculate validation loss as to know if to break out due to overfitting\n",
    "    model.eval()\n",
    "    with torch.no_grad(): # in validation, don't need to calculate gradients for ouputs\n",
    "        for i,(val_images,val_labels) in enumerate(validation_loader):\n",
    "            val_outputs = model(val_images)\n",
    "            val_loss = loss_fn(val_outputs,val_labels)\n",
    "            val_running_loss += val_loss.item()\n",
    "        print(f\"Validation loss: {val_running_loss/count:.3f}\")\n",
    "    \n",
    "    #Breakout clause\n",
    "    \n",
    "print(\"Training complete\")"
   ]
  },
  {
   "cell_type": "markdown",
   "metadata": {},
   "source": [
    "## Test model"
   ]
  },
  {
   "cell_type": "code",
   "execution_count": null,
   "metadata": {},
   "outputs": [
    {
     "name": "stdout",
     "output_type": "stream",
     "text": [
      "Accuracy of the network on the test images: 17.25484 %\n"
     ]
    }
   ],
   "source": [
    "correct = 0\n",
    "total = 0\n",
    "accuracy = 0\n",
    "model.eval()\n",
    "with torch.no_grad(): # in testing, don't need to calculate gradients for ouputs\n",
    "    for (images,labels) in test_loader:\n",
    "        outputs = model(images)\n",
    "        _, predicted = torch.max(outputs.data,1) # returns predicted class labels in one dimension\n",
    "        total += labels.size(0) #adds number of samples in batch to total sample count\n",
    "        correct += (predicted == labels).sum().item()\n",
    "\n",
    "test_accuracy = 100 * correct / total\n",
    "print(f\"Accuracy of the network on the test images: {test_accuracy:.5f} %\")"
   ]
  },
  {
   "cell_type": "markdown",
   "metadata": {},
   "source": [
    "## Check for overfitting"
   ]
  },
  {
   "cell_type": "code",
   "execution_count": null,
   "metadata": {},
   "outputs": [
    {
     "name": "stdout",
     "output_type": "stream",
     "text": [
      "Accuracy of the network on the training images: 99.70588 %\n"
     ]
    }
   ],
   "source": [
    "correct = 0\n",
    "total = 0\n",
    "accuracy = 0\n",
    "\n",
    "with torch.no_grad(): # in testing, don't need to calculate gradients for ouputs\n",
    "    for (images,labels) in train_loader:\n",
    "        outputs = model(images)\n",
    "        _, predicted = torch.max(outputs.data,1) # returns predicted class labels in one dimension\n",
    "        total += labels.size(0) #adds number of samples in batch to total sample count\n",
    "        correct += (predicted == labels).sum().item()\n",
    "\n",
    "train_accuracy = 100 * correct / total\n",
    "print(f\"Accuracy of the network on the training images: {train_accuracy:.5f} %\")"
   ]
  },
  {
   "cell_type": "markdown",
   "metadata": {},
   "source": [
    "## Save model"
   ]
  },
  {
   "cell_type": "code",
   "execution_count": null,
   "metadata": {},
   "outputs": [],
   "source": [
    "torch.save(model.state_dict(), f\"models/model_accuracy_{test_accuracy:.5f}.pt\")"
   ]
  }
 ],
 "metadata": {
  "kernelspec": {
   "display_name": "base",
   "language": "python",
   "name": "python3"
  },
  "language_info": {
   "codemirror_mode": {
    "name": "ipython",
    "version": 3
   },
   "file_extension": ".py",
   "mimetype": "text/x-python",
   "name": "python",
   "nbconvert_exporter": "python",
   "pygments_lexer": "ipython3",
   "version": "3.9.18"
  }
 },
 "nbformat": 4,
 "nbformat_minor": 2
}
